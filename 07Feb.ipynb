{
  "nbformat": 4,
  "nbformat_minor": 0,
  "metadata": {
    "colab": {
      "provenance": []
    },
    "kernelspec": {
      "name": "python3",
      "display_name": "Python 3"
    },
    "language_info": {
      "name": "python"
    }
  },
  "cells": [
    {
      "cell_type": "markdown",
      "source": [
        "Q1. You are writing code for a company. The requirement of the company is that you create a python\n",
        "function that will check whether the password entered by the user is correct or not. The function should\n",
        "take the password as input and return the string “Valid Password” if the entered password follows the\n",
        "below-given password guidelines else it should return “Invalid Password”.\n",
        "Note: 1. The Password should contain at least two uppercase letters and at least two lowercase letters.\n",
        "2. The Password should contain at least a number and three special characters.\n",
        "3. The length of the password should be 10 characters long.\n"
      ],
      "metadata": {
        "id": "J2QdQsvfQtpF"
      }
    },
    {
      "cell_type": "code",
      "source": [
        "import re\n",
        "\n",
        "def check_password(password):\n",
        "    # Check if password length is 10\n",
        "    if len(password) != 10:\n",
        "        return \"Invalid Password\"\n",
        "\n",
        "    # Check for at least two uppercase letters\n",
        "    if len(re.findall(r'[A-Z]', password)) < 2:\n",
        "        return \"Invalid Password\"\n",
        "\n",
        "    # Check for at least two lowercase letters\n",
        "    if len(re.findall(r'[a-z]', password)) < 2:\n",
        "        return \"Invalid Password\"\n",
        "\n",
        "    # Check for at least one number\n",
        "    if len(re.findall(r'[0-9]', password)) < 1:\n",
        "        return \"Invalid Password\"\n",
        "\n",
        "    # Check for at least three special characters\n",
        "    if len(re.findall(r'[\\W_]', password)) < 3:\n",
        "        return \"Invalid Password\"\n",
        "\n",
        "    # If all conditions are met\n",
        "    return \"Valid Password\"\n"
      ],
      "metadata": {
        "id": "Ghqtw6O_QvFi"
      },
      "execution_count": null,
      "outputs": []
    },
    {
      "cell_type": "code",
      "source": [
        "# Test the function\n",
        "password = input(\"Enter the password: \")\n",
        "result = check_password(password)\n",
        "print(result)"
      ],
      "metadata": {
        "colab": {
          "base_uri": "https://localhost:8080/"
        },
        "id": "Yy-5k19VQ4kb",
        "outputId": "abd151e0-fd14-414b-e31b-593d2ed1cb52"
      },
      "execution_count": null,
      "outputs": [
        {
          "output_type": "stream",
          "name": "stdout",
          "text": [
            "Enter the password: Sure@12458\n",
            "Invalid Password\n"
          ]
        }
      ]
    },
    {
      "cell_type": "code",
      "source": [],
      "metadata": {
        "id": "BUq9HLm3RCO3"
      },
      "execution_count": null,
      "outputs": []
    },
    {
      "cell_type": "markdown",
      "source": [
        "Q2. Solve the below-given questions using at least one of the following:\n",
        "1. Lambda function\n",
        "2. Filter function\n",
        "3. Map function\n",
        "4. List ComprehensioI\n",
        "B Check if the string starts with a particular letterY\n",
        "B Check if the string is numericY\n",
        "B Sort a list of tuples having fruit names and their quantity. [(\"mango\",99),(\"orange\",80), (\"grapes\", 1000)-\n",
        "B Find the squares of numbers from 1 to 10Y\n",
        "B Find the cube root of numbers from 1 to 10Y\n",
        "B Check if a given number is evenY\n",
        "B Filter odd numbers from the given list.\n",
        "[1,2,3,4,5,6,7,8,9,10-\n",
        "B Sort a list of integers into positive and negative integers lists.\n",
        "[1,2,3,4,5,6,-1,-2,-3,-4,-5,0]"
      ],
      "metadata": {
        "id": "04FNXpSYQvLb"
      }
    },
    {
      "cell_type": "code",
      "source": [
        "# Check if the string starts with a particular letterY\n",
        "string = \"Hello\"\n",
        "result = lambda x: x.startswith('H')  # Using lambda function\n",
        "print(result(string))\n"
      ],
      "metadata": {
        "colab": {
          "base_uri": "https://localhost:8080/"
        },
        "id": "XuX92ioOQyLa",
        "outputId": "2dd9b098-63e6-4746-bbd1-a04d6f3255b7"
      },
      "execution_count": null,
      "outputs": [
        {
          "output_type": "stream",
          "name": "stdout",
          "text": [
            "True\n"
          ]
        }
      ]
    },
    {
      "cell_type": "code",
      "source": [
        "# Check if the string is numericY\n",
        "string = \"12345\"\n",
        "result = lambda x: x.isnumeric()  # Using lambda function\n",
        "print(result(string))\n"
      ],
      "metadata": {
        "id": "unuuw5jxRTKd",
        "outputId": "5d0a5f5f-bf60-4c80-d1b2-df45428389f1",
        "colab": {
          "base_uri": "https://localhost:8080/"
        }
      },
      "execution_count": null,
      "outputs": [
        {
          "output_type": "stream",
          "name": "stdout",
          "text": [
            "True\n"
          ]
        }
      ]
    },
    {
      "cell_type": "code",
      "source": [
        "# Sort a list of tuples having fruit names and their quantity. [(\"mango\",99),(\"orange\",80), (\"grapes\", 1000)-\n",
        "fruit_list = [(\"mango\", 99), (\"orange\", 80), (\"grapes\", 1000)]\n",
        "sorted_fruits = sorted(fruit_list, key=lambda x: x[1])  # Sort by quantity\n",
        "print(sorted_fruits)\n"
      ],
      "metadata": {
        "id": "ECwK7yAIRTOE",
        "outputId": "4bbf38f2-2a6a-4d3d-b087-e7b3c8e32b93",
        "colab": {
          "base_uri": "https://localhost:8080/"
        }
      },
      "execution_count": null,
      "outputs": [
        {
          "output_type": "stream",
          "name": "stdout",
          "text": [
            "[('orange', 80), ('mango', 99), ('grapes', 1000)]\n"
          ]
        }
      ]
    },
    {
      "cell_type": "code",
      "source": [
        "# Find the squares of numbers from 1 to 10Y\n",
        "numbers = list(range(1, 11))\n",
        "squares = list(map(lambda x: x**2, numbers))  # Using map function\n",
        "print(squares)\n"
      ],
      "metadata": {
        "id": "yFNBNp7fRTY9",
        "colab": {
          "base_uri": "https://localhost:8080/"
        },
        "outputId": "05bd7671-8d28-4915-d751-cdad265e937a"
      },
      "execution_count": 6,
      "outputs": [
        {
          "output_type": "stream",
          "name": "stdout",
          "text": [
            "[1, 4, 9, 16, 25, 36, 49, 64, 81, 100]\n"
          ]
        }
      ]
    },
    {
      "cell_type": "code",
      "source": [
        "# Find the cube root of numbers from 1 to 10Y\n",
        "numbers = list(range(1, 11))\n",
        "cube_roots = list(map(lambda x: x**(1/3), numbers))  # Using map function\n",
        "print(cube_roots)"
      ],
      "metadata": {
        "colab": {
          "base_uri": "https://localhost:8080/"
        },
        "id": "_UBsvKXZRl0K",
        "outputId": "21efde25-32ea-4605-9627-6435263405a8"
      },
      "execution_count": 7,
      "outputs": [
        {
          "output_type": "stream",
          "name": "stdout",
          "text": [
            "[1.0, 1.2599210498948732, 1.4422495703074083, 1.5874010519681994, 1.7099759466766968, 1.8171205928321397, 1.912931182772389, 2.0, 2.080083823051904, 2.154434690031884]\n"
          ]
        }
      ]
    },
    {
      "cell_type": "code",
      "source": [
        "# Check if a given number is evenY\n",
        "number = 4\n",
        "result = lambda x: x % 2 == 0  # Using lambda function\n",
        "print(result(number))\n"
      ],
      "metadata": {
        "colab": {
          "base_uri": "https://localhost:8080/"
        },
        "id": "4NwfOjUhTACd",
        "outputId": "ea4549e5-054e-42d8-bdd2-3f46fe00d730"
      },
      "execution_count": 8,
      "outputs": [
        {
          "output_type": "stream",
          "name": "stdout",
          "text": [
            "True\n"
          ]
        }
      ]
    },
    {
      "cell_type": "code",
      "source": [
        "# Filter odd numbers from the given list.\n",
        "numbers = [1, 2, 3, 4, 5, 6, 7, 8, 9, 10]\n",
        "odd_numbers = list(filter(lambda x: x % 2 != 0, numbers))  # Using filter function\n",
        "print(odd_numbers)\n"
      ],
      "metadata": {
        "colab": {
          "base_uri": "https://localhost:8080/"
        },
        "id": "XuExmDkqTAJm",
        "outputId": "030e28de-b407-4c6c-e581-88ce1779cb83"
      },
      "execution_count": 9,
      "outputs": [
        {
          "output_type": "stream",
          "name": "stdout",
          "text": [
            "[1, 3, 5, 7, 9]\n"
          ]
        }
      ]
    },
    {
      "cell_type": "code",
      "source": [
        "# Sort a list of integers into positive and negative integers lists.\n",
        "numbers = [1, 2, 3, 4, 5, 6, -1, -2, -3, -4, -5, 0]\n",
        "positive_numbers = list(filter(lambda x: x > 0, numbers))  # Positive numbers\n",
        "negative_numbers = list(filter(lambda x: x < 0, numbers))  # Negative numbers\n",
        "print(\"Positive numbers:\", positive_numbers)\n",
        "print(\"Negative numbers:\", negative_numbers)\n"
      ],
      "metadata": {
        "colab": {
          "base_uri": "https://localhost:8080/"
        },
        "id": "aCv0MKksTAPd",
        "outputId": "0f1bc959-f9cc-4d13-e774-3e5066c9c7f7"
      },
      "execution_count": 10,
      "outputs": [
        {
          "output_type": "stream",
          "name": "stdout",
          "text": [
            "Positive numbers: [1, 2, 3, 4, 5, 6]\n",
            "Negative numbers: [-1, -2, -3, -4, -5]\n"
          ]
        }
      ]
    }
  ]
}